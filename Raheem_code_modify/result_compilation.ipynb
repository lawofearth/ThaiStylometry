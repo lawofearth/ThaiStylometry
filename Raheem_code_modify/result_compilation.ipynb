{
 "cells": [
  {
   "cell_type": "markdown",
   "metadata": {},
   "source": [
    "# Openset Verification "
   ]
  },
  {
   "cell_type": "code",
   "execution_count": 1,
   "metadata": {
    "ExecuteTime": {
     "end_time": "2019-05-14T06:36:31.799839Z",
     "start_time": "2019-05-14T06:36:31.794854Z"
    }
   },
   "outputs": [],
   "source": [
    "import os, shutil, csv"
   ]
  },
  {
   "cell_type": "code",
   "execution_count": 2,
   "metadata": {
    "ExecuteTime": {
     "end_time": "2019-05-14T06:36:32.557857Z",
     "start_time": "2019-05-14T06:36:32.511627Z"
    }
   },
   "outputs": [],
   "source": [
    "replacements = {'[': '', '(': '', ']': '', ')': ''}\n",
    "\n",
    "shd_partial = []\n",
    "mhd_partial = []\n",
    "phd_partial = []\n",
    "\n",
    "shd_complete = []\n",
    "mhd_complete = []\n",
    "phd_complete = []\n",
    "\n",
    "pr_shd = []\n",
    "pr_mhd = []\n",
    "pr_phd = []\n",
    "\n",
    "doc_ids_list = []\n",
    "author_ids_list = []\n",
    "phd_authors_list = []\n",
    "\n",
    "my_data = []\n",
    "\n",
    "for filename in os.listdir('./result'):\n",
    "    my_data.append(filename)\n",
    "\n",
    "if 'expResult10KK' in os.listdir('./'):\n",
    "    shutil.rmtree('./expResult10KK')\n",
    "\n",
    "os.mkdir('./expResult10KK')\n",
    "\n",
    "for filename in my_data:\n",
    "\n",
    "    with open(\"./result/\" + filename) as infile, open(\"./expResult10KK/\" + filename + filename, 'w') as outfile:\n",
    "        for line in infile:\n",
    "            for src, target in replacements.items():\n",
    "                line = line.replace(src, target)\n",
    "            outfile.write(line)\n",
    "\n",
    "    results = []\n",
    "    with open(\"./expResult10KK/\" + filename + filename) as inputfile:\n",
    "        for row in csv.reader(inputfile):\n",
    "            results.append(row)\n",
    "            \n",
    "    # /////////////////////////////////////////////////////////\n",
    "    # Partial Accuracy\n",
    "    # ////////////////////////////////////////////////////////////////\n",
    "    for i in range(0, len(results[16])):\n",
    "        if (results[16][i].strip() == results[15][0].strip()):\n",
    "            shd_partial.append(1)\n",
    "\n",
    "    for i in range(0, len(results[17])):\n",
    "        if (results[17][i].strip() == results[15][0].strip()):\n",
    "                mhd_partial.append(1)\n",
    "\n",
    "    for i in range(0, len(results[18])):\n",
    "        if (results[18][i].strip() == results[15][0].strip()):\n",
    "            phd_partial.append(1)\n",
    "\n",
    "    # /////////////////////////////////////////////////////////\n",
    "    # Complete Accuracy\n",
    "    # /////////////////////////////////////////////////////////\n",
    "    # 15 = real author\n",
    "    # 16 = predicted result\n",
    "    if (results[16][0].strip() == results[15][0].strip()):\n",
    "        shd_complete.append(1)\n",
    "\n",
    "    if (results[17][0].strip() == results[15][0].strip()):\n",
    "        mhd_complete.append(1)\n",
    "\n",
    "    if (results[18][0].strip() == results[15][0].strip()):\n",
    "        phd_complete.append(1)\n",
    "\n",
    "    # 9 = prob guess\n",
    "    # 8 = ?\n",
    "    pr_shd.append((float(len(results[9])) / float(results[8][0].strip()) * 100))\n",
    "    pr_mhd.append((float(results[10][0].strip()) / float(results[8][0].strip()) * 100))\n",
    "    pr_phd.append((float(results[11][0].strip()) / float(results[8][0].strip()) * 100))\n",
    "    # ////////////////////////////////////////////////////////////////////////////////////////\n",
    "\n",
    "    doc_id = results[0][0].strip()\n",
    "    doc_ids_list.append(doc_id)\n",
    "    author_id = results[15][0].strip()\n",
    "    author_ids_list.append(author_id)\n",
    "    phd_authors = []\n",
    "    i = 0\n",
    "    for j in range(0, len(results[18])):\n",
    "        if (i >= len(results[18])):\n",
    "            break\n",
    "        phd_authors.append(results[18][i].strip())\n",
    "        i = i + 2\n",
    "    phd_authors_list.append(phd_authors)\n",
    "\n",
    "#    print (doc_id, author_id,phd_authors)\n",
    "\n",
    "rows = zip(doc_ids_list, author_ids_list, phd_authors_list)\n",
    "\n",
    "phd_authors = [float(i) for i in phd_authors]\n",
    "\n",
    "SASHD = len(shd_complete) / len(shd_partial) * 100\n",
    "SAMHD = len(mhd_complete) / len(mhd_partial) * 100\n",
    "SAPHD = len(phd_complete) / len(phd_partial) * 100\n",
    "\n"
   ]
  },
  {
   "cell_type": "code",
   "execution_count": 14,
   "metadata": {
    "ExecuteTime": {
     "end_time": "2019-05-13T09:08:38.562191Z",
     "start_time": "2019-05-13T09:08:38.559189Z"
    }
   },
   "outputs": [
    {
     "data": {
      "text/plain": [
       "['468.0']"
      ]
     },
     "execution_count": 14,
     "metadata": {},
     "output_type": "execute_result"
    }
   ],
   "source": [
    "results[0]"
   ]
  },
  {
   "cell_type": "code",
   "execution_count": 18,
   "metadata": {
    "ExecuteTime": {
     "end_time": "2019-05-13T09:20:02.399636Z",
     "start_time": "2019-05-13T09:20:02.395618Z"
    }
   },
   "outputs": [
    {
     "name": "stdout",
     "output_type": "stream",
     "text": [
      "53.0\n",
      "x\n",
      " 0.76984237227837971\n",
      " 175.0\n",
      " 0.13937432945206613\n",
      " 220.0\n",
      " 0.048492778587850685\n",
      " 166.0\n",
      " 0.021640607419868216\n",
      " 213.0\n",
      " 0.020649912261835365\n"
     ]
    }
   ],
   "source": [
    "for i in range(0, len(results[16])):\n",
    "    print(results[16][i])\n",
    "    if (results[16][i].strip() == results[15][0].strip()):\n",
    "        print('x')\n",
    "        shd_partial.append(1)"
   ]
  },
  {
   "cell_type": "code",
   "execution_count": 17,
   "metadata": {
    "ExecuteTime": {
     "end_time": "2019-05-13T09:19:48.168960Z",
     "start_time": "2019-05-13T09:19:48.164970Z"
    }
   },
   "outputs": [
    {
     "data": {
      "text/plain": [
       "[1, 1, 1, 1, 1, 1, 1]"
      ]
     },
     "execution_count": 17,
     "metadata": {},
     "output_type": "execute_result"
    }
   ],
   "source": [
    "shd_partial"
   ]
  },
  {
   "cell_type": "code",
   "execution_count": 8,
   "metadata": {
    "ExecuteTime": {
     "end_time": "2019-05-14T06:37:17.953392Z",
     "start_time": "2019-05-14T06:37:17.949404Z"
    }
   },
   "outputs": [
    {
     "data": {
      "text/plain": [
       "'53.0'"
      ]
     },
     "execution_count": 8,
     "metadata": {},
     "output_type": "execute_result"
    }
   ],
   "source": [
    "results[16][0]"
   ]
  },
  {
   "cell_type": "code",
   "execution_count": 20,
   "metadata": {
    "ExecuteTime": {
     "end_time": "2019-05-13T09:20:20.009130Z",
     "start_time": "2019-05-13T09:20:20.005115Z"
    }
   },
   "outputs": [
    {
     "data": {
      "text/plain": [
       "['53.0']"
      ]
     },
     "execution_count": 20,
     "metadata": {},
     "output_type": "execute_result"
    }
   ],
   "source": [
    "results[15]"
   ]
  },
  {
   "cell_type": "code",
   "execution_count": 22,
   "metadata": {
    "ExecuteTime": {
     "end_time": "2019-05-13T09:24:50.143454Z",
     "start_time": "2019-05-13T09:24:50.138468Z"
    },
    "scrolled": true
   },
   "outputs": [
    {
     "data": {
      "text/plain": [
       "[['468.0'],\n",
       " ['0.91410112381'],\n",
       " ['0.00028395652771'],\n",
       " ['0.137774944305'],\n",
       " ['0.844686031342'],\n",
       " ['0.286865949631'],\n",
       " ['0.857003927231'],\n",
       " ['0.283288002014'],\n",
       " ['37'],\n",
       " ['2189.0',\n",
       "  ' 2190.0',\n",
       "  ' 2191.0',\n",
       "  ' 2192.0',\n",
       "  ' 2193.0',\n",
       "  ' 2194.0',\n",
       "  ' 1555.0',\n",
       "  ' 1556.0',\n",
       "  ' 1557.0',\n",
       "  ' 1558.0',\n",
       "  ' 1559.0',\n",
       "  ' 2341.0',\n",
       "  ' 2342.0',\n",
       "  ' 2343.0',\n",
       "  ' 2358.0',\n",
       "  ' 2359.0',\n",
       "  ' 2360.0',\n",
       "  ' 2361.0',\n",
       "  ' 2362.0',\n",
       "  ' 2247.0',\n",
       "  ' 2248.0',\n",
       "  ' 2249.0',\n",
       "  ' 2250.0',\n",
       "  ' 2251.0',\n",
       "  ' 466.0',\n",
       "  ' 1747.0',\n",
       "  ' 2260.0',\n",
       "  ' 2261.0',\n",
       "  ' 1750.0',\n",
       "  ' 1551.0',\n",
       "  ' 1552.0',\n",
       "  ' 1553.0',\n",
       "  ' 468.0',\n",
       "  ' 1554.0',\n",
       "  ' 467.0',\n",
       "  ' 1748.0',\n",
       "  ' 1749.0'],\n",
       " ['37'],\n",
       " ['37'],\n",
       " ['1.0'],\n",
       " ['1.0'],\n",
       " ['1.0'],\n",
       " ['53.0'],\n",
       " ['53.0',\n",
       "  ' 0.76984237227837971',\n",
       "  ' 175.0',\n",
       "  ' 0.13937432945206613',\n",
       "  ' 220.0',\n",
       "  ' 0.048492778587850685',\n",
       "  ' 166.0',\n",
       "  ' 0.021640607419868216',\n",
       "  ' 213.0',\n",
       "  ' 0.020649912261835365'],\n",
       " ['53.0',\n",
       "  ' 0.64491929610334731',\n",
       "  ' 175.0',\n",
       "  ' 0.13940241485459362',\n",
       "  ' 166.0',\n",
       "  ' 0.13447278438557808',\n",
       "  ' 220.0',\n",
       "  ' 0.056048153349143183',\n",
       "  ' 213.0',\n",
       "  ' 0.012808565320947958',\n",
       "  ' 217.0',\n",
       "  ' 0.01234878598638983'],\n",
       " ['53.0',\n",
       "  ' 0.50662799450497342',\n",
       "  ' 175.0',\n",
       "  ' 0.27932094723223461',\n",
       "  ' 166.0',\n",
       "  ' 0.13429157258588895',\n",
       "  ' 220.0',\n",
       "  ' 0.05965857269171361',\n",
       "  ' 217.0',\n",
       "  ' 0.0107593547801954',\n",
       "  ' 213.0',\n",
       "  ' 0.0093415582049938932']]"
      ]
     },
     "execution_count": 22,
     "metadata": {},
     "output_type": "execute_result"
    }
   ],
   "source": [
    "results"
   ]
  },
  {
   "cell_type": "code",
   "execution_count": 3,
   "metadata": {
    "ExecuteTime": {
     "end_time": "2019-05-14T06:36:42.437141Z",
     "start_time": "2019-05-14T06:36:42.374309Z"
    },
    "scrolled": false
   },
   "outputs": [
    {
     "ename": "AttributeError",
     "evalue": "'list' object has no attribute 'strip'",
     "output_type": "error",
     "traceback": [
      "\u001b[1;31m---------------------------------------------------------------------------\u001b[0m",
      "\u001b[1;31mAttributeError\u001b[0m                            Traceback (most recent call last)",
      "\u001b[1;32m<ipython-input-3-1cfa4c8e908b>\u001b[0m in \u001b[0;36m<module>\u001b[1;34m\u001b[0m\n\u001b[1;32m----> 1\u001b[1;33m \u001b[0mresults\u001b[0m\u001b[1;33m[\u001b[0m\u001b[1;36m9\u001b[0m\u001b[1;33m]\u001b[0m\u001b[1;33m.\u001b[0m\u001b[0mstrip\u001b[0m\u001b[1;33m\u001b[0m\u001b[1;33m\u001b[0m\u001b[0m\n\u001b[0m",
      "\u001b[1;31mAttributeError\u001b[0m: 'list' object has no attribute 'strip'"
     ]
    }
   ],
   "source": [
    "results[9]"
   ]
  },
  {
   "cell_type": "code",
   "execution_count": 27,
   "metadata": {
    "ExecuteTime": {
     "end_time": "2019-05-13T09:35:58.262987Z",
     "start_time": "2019-05-13T09:35:58.258000Z"
    }
   },
   "outputs": [
    {
     "data": {
      "text/plain": [
       "37"
      ]
     },
     "execution_count": 27,
     "metadata": {},
     "output_type": "execute_result"
    }
   ],
   "source": [
    "len(results[9])"
   ]
  },
  {
   "cell_type": "code",
   "execution_count": 25,
   "metadata": {
    "ExecuteTime": {
     "end_time": "2019-05-13T09:34:08.796318Z",
     "start_time": "2019-05-13T09:34:08.793295Z"
    }
   },
   "outputs": [
    {
     "data": {
      "text/plain": [
       "['37']"
      ]
     },
     "execution_count": 25,
     "metadata": {},
     "output_type": "execute_result"
    }
   ],
   "source": [
    "results[10]"
   ]
  },
  {
   "cell_type": "code",
   "execution_count": 28,
   "metadata": {
    "ExecuteTime": {
     "end_time": "2019-05-13T09:36:55.664255Z",
     "start_time": "2019-05-13T09:36:55.661230Z"
    }
   },
   "outputs": [
    {
     "data": {
      "text/plain": [
       "['37']"
      ]
     },
     "execution_count": 28,
     "metadata": {},
     "output_type": "execute_result"
    }
   ],
   "source": [
    "results[11]"
   ]
  },
  {
   "cell_type": "markdown",
   "metadata": {},
   "source": [
    "## export/use data"
   ]
  },
  {
   "cell_type": "code",
   "execution_count": 10,
   "metadata": {
    "ExecuteTime": {
     "end_time": "2019-05-14T07:30:58.798936Z",
     "start_time": "2019-05-14T07:30:58.795943Z"
    }
   },
   "outputs": [],
   "source": [
    "from pandas import DataFrame as df"
   ]
  },
  {
   "cell_type": "markdown",
   "metadata": {},
   "source": [
    "### format data"
   ]
  },
  {
   "cell_type": "code",
   "execution_count": 13,
   "metadata": {
    "ExecuteTime": {
     "end_time": "2019-05-14T07:37:56.729440Z",
     "start_time": "2019-05-14T07:37:56.720463Z"
    }
   },
   "outputs": [],
   "source": [
    "openset_data = df()\n",
    "openset_data[\"book\"] = []\n",
    "openset_data[\"author0\"] = []\n",
    "openset_data[\"author_shd\"] = []\n",
    "openset_data[\"percent_shd\"] = []\n",
    "openset_data[\"author_mhd\"] = []\n",
    "openset_data[\"percent_mhd\"] = []\n",
    "openset_data[\"author_phd\"] = []\n",
    "openset_data[\"percent_phd\"] = []"
   ]
  },
  {
   "cell_type": "code",
   "execution_count": 18,
   "metadata": {
    "ExecuteTime": {
     "end_time": "2019-05-14T07:52:39.074183Z",
     "start_time": "2019-05-14T07:52:38.262095Z"
    }
   },
   "outputs": [
    {
     "name": "stdout",
     "output_type": "stream",
     "text": [
      "0\n",
      "1\n",
      "2\n",
      "3\n",
      "4\n",
      "5\n"
     ]
    }
   ],
   "source": [
    "replacements = {'[': '', '(': '', ']': '', ')': ''}\n",
    "\n",
    "openset_data = df()\n",
    "openset_data[\"book\"] = []\n",
    "openset_data[\"author0\"] = []\n",
    "openset_data[\"author_shd\"] = []\n",
    "openset_data[\"percent_shd\"] = []\n",
    "openset_data[\"author_mhd\"] = []\n",
    "openset_data[\"percent_mhd\"] = []\n",
    "openset_data[\"author_phd\"] = []\n",
    "openset_data[\"percent_phd\"] = []\n",
    "\n",
    "my_data = []\n",
    "\n",
    "for filename in os.listdir('./result'):\n",
    "    my_data.append(filename)\n",
    "\n",
    "for index, filename in enumerate(my_data):\n",
    "    \n",
    "    with open(\"./result/\" + filename) as infile, open(\"./expResult10KK/\" + filename + filename, 'w') as outfile:\n",
    "        for line in infile:\n",
    "            for src, target in replacements.items():\n",
    "                line = line.replace(src, target)\n",
    "            outfile.write(line)\n",
    "            \n",
    "    results = []\n",
    "    with open(\"./expResult10KK/\" + filename + filename) as inputfile:\n",
    "        for row in csv.reader(inputfile):\n",
    "            results.append(row)\n",
    "    \n",
    "    openset_data.loc[index, \"book\"] = results[0][0].strip()\n",
    "    openset_data.loc[index, \"author0\"] = results[15][0].strip()\n",
    "    openset_data.loc[index, \"author_shd\"] = results[16][0].strip()\n",
    "    openset_data.loc[index, \"percent_shd\"] = results[16][1].strip()\n",
    "    openset_data.loc[index, \"author_mhd\"] = results[17][0].strip()\n",
    "    openset_data.loc[index, \"percent_mhd\"] = results[17][1].strip()\n",
    "    openset_data.loc[index, \"author_phd\"] = results[18][0].strip()\n",
    "    openset_data.loc[index, \"percent_phd\"] = results[18][1].strip()\n",
    "    \n",
    "openset_data.to_excel(\"Openset_data.xlsx\") "
   ]
  },
  {
   "cell_type": "markdown",
   "metadata": {},
   "source": [
    "## ranking "
   ]
  },
  {
   "cell_type": "code",
   "execution_count": null,
   "metadata": {},
   "outputs": [],
   "source": []
  }
 ],
 "metadata": {
  "kernelspec": {
   "display_name": "Python 3",
   "language": "python",
   "name": "python3"
  },
  "language_info": {
   "codemirror_mode": {
    "name": "ipython",
    "version": 3
   },
   "file_extension": ".py",
   "mimetype": "text/x-python",
   "name": "python",
   "nbconvert_exporter": "python",
   "pygments_lexer": "ipython3",
   "version": "3.6.8"
  },
  "toc": {
   "base_numbering": 1,
   "nav_menu": {},
   "number_sections": true,
   "sideBar": true,
   "skip_h1_title": false,
   "title_cell": "Table of Contents",
   "title_sidebar": "Contents",
   "toc_cell": false,
   "toc_position": {
    "height": "calc(100% - 180px)",
    "left": "10px",
    "top": "150px",
    "width": "239px"
   },
   "toc_section_display": true,
   "toc_window_display": true
  }
 },
 "nbformat": 4,
 "nbformat_minor": 2
}
